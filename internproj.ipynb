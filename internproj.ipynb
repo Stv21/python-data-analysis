{
 "cells": [
  {
   "cell_type": "code",
   "execution_count": 103,
   "id": "46607c13",
   "metadata": {},
   "outputs": [],
   "source": [
    "import pandas as pd\n",
    "df = pd.read_excel(r'C:\\Users\\stvma\\Downloads\\Data analyst Data.xlsx')\n",
    "\n"
   ]
  },
  {
   "cell_type": "code",
   "execution_count": 104,
   "id": "ae780bf7",
   "metadata": {},
   "outputs": [
    {
     "name": "stdout",
     "output_type": "stream",
     "text": [
      "The dataset contains 2324 unique students.\n"
     ]
    }
   ],
   "source": [
    "# Q.1. Calculate the number of unique students\n",
    "unique_students = df['First Name'].nunique()\n",
    "print(f\"The dataset contains {unique_students} unique students.\")"
   ]
  },
  {
   "cell_type": "code",
   "execution_count": 105,
   "id": "cb453a4d",
   "metadata": {},
   "outputs": [
    {
     "name": "stdout",
     "output_type": "stream",
     "text": [
      "The average GPA of the students is 8.04.\n"
     ]
    }
   ],
   "source": [
    "# Q.2. Calculate the average GPA of the students\n",
    "average_gpa = df['CGPA'].mean()\n",
    "print(f\"The average GPA of the students is {average_gpa:.2f}.\")\n"
   ]
  },
  {
   "cell_type": "code",
   "execution_count": 106,
   "id": "768e65e4",
   "metadata": {},
   "outputs": [
    {
     "name": "stdout",
     "output_type": "stream",
     "text": [
      "Distribution of students across different graduation years:\n",
      "Year of Graduation\n",
      "2023    1536\n",
      "2024    1511\n",
      "2025    1292\n",
      "2026     555\n",
      "Name: count, dtype: int64\n"
     ]
    }
   ],
   "source": [
    "# Q.3. Calculate the distribution of students across different graduation years\n",
    "graduation_year_distribution = df['Year of Graduation'].value_counts()\n",
    "print(\"Distribution of students across different graduation years:\")\n",
    "print(graduation_year_distribution)"
   ]
  },
  {
   "cell_type": "code",
   "execution_count": 107,
   "id": "6ad1eb22",
   "metadata": {},
   "outputs": [
    {
     "name": "stdout",
     "output_type": "stream",
     "text": [
      "Distribution of student's experience with Python programming:\n",
      "Experience with python (Months)\n",
      "5    1242\n",
      "3    1008\n",
      "8     800\n",
      "6     738\n",
      "7     640\n",
      "4     466\n",
      "Name: count, dtype: int64\n"
     ]
    }
   ],
   "source": [
    "# Q.4) Calculate the distribution of student's experience with Python programming\n",
    "python_experience_distribution = df['Experience with python (Months)'].value_counts()\n",
    "print(\"Distribution of student's experience with Python programming:\")\n",
    "print(python_experience_distribution)\n"
   ]
  },
  {
   "cell_type": "code",
   "execution_count": 108,
   "id": "ee79a7ad",
   "metadata": {},
   "outputs": [
    {
     "name": "stdout",
     "output_type": "stream",
     "text": [
      "The average family income of the students is: 1.29 Lakh\n"
     ]
    }
   ],
   "source": [
    "#Q.5) Calculate the average family income of the students\n",
    "import re\n",
    "\n",
    "# Define a function to calculate the mean from income range strings\n",
    "def calculate_mean(income_range):\n",
    "    # Check if the income_range is already a float value\n",
    "    if isinstance(income_range, float):\n",
    "        return income_range\n",
    "    \n",
    "    # Use regular expressions to extract numerical values\n",
    "    values = [float(match) for match in re.findall(r'\\d+\\.\\d+|\\d+', str(income_range))]\n",
    "    \n",
    "    # Calculate the mean\n",
    "    if values:\n",
    "        return sum(values) / len(values)\n",
    "    else:\n",
    "        return None\n",
    "\n",
    "# Apply the calculate_mean function to the 'Family Income' column\n",
    "df['Family Income'] = df['Family Income'].apply(calculate_mean)\n",
    "\n",
    "average_family_income = df['Family Income'].mean()\n",
    "\n",
    "print(f\"The average family income of the students is: {average_family_income:.2f} Lakh\")"
   ]
  },
  {
   "cell_type": "code",
   "execution_count": 109,
   "id": "dbf14c65",
   "metadata": {},
   "outputs": [
    {
     "name": "stdout",
     "output_type": "stream",
     "text": [
      "GPA variation among different colleges (top 5 results):\n",
      "College Name\n",
      "THAKUR INSTITUTE OF MANAGEMENT STUDIES, CAREER DEVELOPMENT & RESEARCH - [TIMSCDR]    8.585714\n",
      "St Xavier's College                                                                  8.578571\n",
      "B. K. Birla College of Arts, Science & Commerce (Autonomous), Kalyan                 8.456410\n",
      "Symbiosis Institute of Technology, Pune                                              8.303448\n",
      "AP SHAH INSTITUTE OF TECHNOLOGY                                                      8.283333\n",
      "Name: CGPA, dtype: float64\n"
     ]
    }
   ],
   "source": [
    "#Q.6) Calculate the GPA variation among different colleges (show top 5 results only)\n",
    "gpa_variation_by_college = df.groupby('College Name')['CGPA'].mean().nlargest(5)\n",
    "print(\"GPA variation among different colleges (top 5 results):\")\n",
    "print(gpa_variation_by_college)\n"
   ]
  },
  {
   "cell_type": "code",
   "execution_count": 110,
   "id": "6907f66e",
   "metadata": {},
   "outputs": [
    {
     "name": "stdout",
     "output_type": "stream",
     "text": [
      "\n",
      "Outliers in 'Attendee Status':\n",
      "                                       Events  Attendee Status\n",
      "78                     Art of Resume Building                0\n",
      "80                     Art of Resume Building                0\n",
      "121                    Art of Resume Building                0\n",
      "139                    Art of Resume Building                0\n",
      "358         Data Visualization using Power BI                0\n",
      "447         Data Visualization using Power BI                0\n",
      "448         Data Visualization using Power BI                0\n",
      "487         Data Visualization using Power BI                0\n",
      "1362  Internship Program(IP) Success Conclave                0\n",
      "2144              Product Design & Full Stack                0\n",
      "3572                   Art of Resume Building                0\n",
      "3585                   Art of Resume Building                0\n",
      "\n",
      "No outliers found in 'Quantity'.\n"
     ]
    }
   ],
   "source": [
    "# Q.7) Are there any outliers in the 'attendingstatus' & 'quantity (number of courses completed)' attribute?\n",
    "\n",
    "import pandas as pd\n",
    "from scipy import stats\n",
    "\n",
    "# Replace 'NAN' with 0 and 'Attending' with 1 in 'Attendee Status'\n",
    "df['Attendee Status'] = df['Attendee Status'].replace('NAN', 0)\n",
    "df['Attendee Status'] = df['Attendee Status'].replace('Attending', 1)\n",
    "df['Attendee Status'] = df['Attendee Status'].astype(int)\n",
    "\n",
    "# Convert 'Quantity' column to numeric\n",
    "df['Quantity'] = pd.to_numeric(df['Quantity'], errors='coerce')\n",
    "\n",
    "# Replace NaN values with 0 for 'Quantity'\n",
    "df['Quantity'].fillna(0, inplace=True)\n",
    "\n",
    "# Calculate Z-scores for 'Attendee Status' and 'Quantity'\n",
    "z_scores_attendee = stats.zscore(df['Attendee Status'])\n",
    "z_scores_quantity = stats.zscore(df['Quantity'])\n",
    "\n",
    "# Define a threshold for considering values as outliers (e.g., z-score > 3 or < -3)\n",
    "threshold = 3\n",
    "\n",
    "# Identify outliers for 'Attendee Status'\n",
    "outliers_attendee = df[abs(z_scores_attendee) > threshold]\n",
    "\n",
    "# Identify outliers for 'Quantity'\n",
    "outliers_quantity = df[abs(z_scores_quantity) > threshold]\n",
    "\n",
    "# Check if there are any outliers\n",
    "if not outliers_attendee.empty:\n",
    "    print(\"\\nOutliers in 'Attendee Status':\")\n",
    "    print(outliers_attendee[['Events', 'Attendee Status']].to_string())\n",
    "else:\n",
    "    print(\"\\nNo outliers found in 'Attendee Status'.\")\n",
    "\n",
    "if not outliers_quantity.empty:\n",
    "    print(\"\\nOutliers in 'Quantity':\")\n",
    "    print(outliers_quantity[['Events', 'Quantity']].to_string())\n",
    "else:\n",
    "    print(\"\\nNo outliers found in 'Quantity'.\")\n"
   ]
  },
  {
   "cell_type": "code",
   "execution_count": 111,
   "id": "910f6ee9",
   "metadata": {},
   "outputs": [
    {
     "name": "stdout",
     "output_type": "stream",
     "text": [
      "Average GPA for each city:\n",
      "City\n",
      "Agartala     7.660714\n",
      "Agra         8.046429\n",
      "Ahemdabad    8.190385\n",
      "Ajmer        8.284314\n",
      "Akola        8.021429\n",
      "               ...   \n",
      "Vidisha      7.738095\n",
      "Vijaywada    7.986364\n",
      "Wardha       8.328571\n",
      "konark       8.071429\n",
      "kullu        7.878571\n",
      "Name: CGPA, Length: 177, dtype: float64\n"
     ]
    }
   ],
   "source": [
    "# 8) Calculate the average GPA for each city\n",
    "average_gpa_by_city = df.groupby('City')['CGPA'].mean()\n",
    "print(\"Average GPA for each city:\")\n",
    "print(average_gpa_by_city)"
   ]
  },
  {
   "cell_type": "code",
   "execution_count": 112,
   "id": "a561adb8",
   "metadata": {},
   "outputs": [
    {
     "name": "stdout",
     "output_type": "stream",
     "text": [
      "The correlation between family income and GPA is 0.02.\n"
     ]
    }
   ],
   "source": [
    "# 9) Identify any relationship between family income and GPA\n",
    "correlation_family_income_gpa = df['Family Income'].corr(df['CGPA'])\n",
    "print(f\"The correlation between family income and GPA is {correlation_family_income_gpa:.2f}.\")"
   ]
  },
  {
   "cell_type": "code",
   "execution_count": 113,
   "id": "af77f234",
   "metadata": {},
   "outputs": [
    {
     "data": {
      "text/plain": [
       "<Axes: >"
      ]
     },
     "execution_count": 113,
     "metadata": {},
     "output_type": "execute_result"
    },
    {
     "data": {
      "image/png": "[encoded data removed]",
      "text/plain": [
       "<Figure size 640x480 with 2 Axes>"
      ]
     },
     "metadata": {},
     "output_type": "display_data"
    }
   ],
   "source": [
    "\n",
    "# 10) How does the expected salary vary based on factors like GPA, experience with Python, and family income?\n",
    "# Create a new DataFrame with the relevant columns\n",
    "import seaborn as sns\n",
    "salary_analysis_df = df[['Expected salary (Lac)', 'CGPA', 'Experience with python (Months)', 'Family Income']]\n",
    "\n",
    "# Calculate the correlation matrix\n",
    "correlation_matrix = salary_analysis_df.corr()\n",
    "\n",
    "# Visualize the correlation matrix using a heatmap\n",
    "sns.heatmap(correlation_matrix, annot=True, cmap='coolwarm')\n"
   ]
  },
  {
   "cell_type": "code",
   "execution_count": 114,
   "id": "a8373440",
   "metadata": {},
   "outputs": [
    {
     "name": "stdout",
     "output_type": "stream",
     "text": [
      "Event that attracts more students from specific fields of study:\n",
      "                                         College Name  \\\n",
      "0                  A. C. Patil College of Engineering   \n",
      "1                   ADHIYAMAAN COLLEGE OF ENGINEERING   \n",
      "2                    AP SHAH INSTITUTE OF TECHNOLOGY    \n",
      "3   B. K. Birla College of Arts, Science & Commerc...   \n",
      "4   CHHATTISGARH SWAMI VIVEKANANDA TECHNICAL UNIVE...   \n",
      "5   D Y PATIL INSTITUTE OF MCA AND MANAGEMENT AKUR...   \n",
      "6   DKTE Society's Textile And Engineering Institu...   \n",
      "7        Don Bosco College of Engineering Fatorda Goa   \n",
      "8   G H Raisoni institut of engineering and techno...   \n",
      "9                  GOVERNMENT POLYTECHNIC GANDHINAGAR   \n",
      "10  KLE Society's College of BCA, RLS Institute, B...   \n",
      "11     LD College of engineering, Ahmedabad, Gujarat    \n",
      "12  LOKMANYA TILAK COLLEGE OF ENGINEERING KOPARKHA...   \n",
      "13           Late G. N. Sapkal College Of Engineering   \n",
      "14                 MIT Academy Of Engineering ,Alandi   \n",
      "15  New horizon institute of Technology and Manage...   \n",
      "16           Pillai College of Engineering New Panvel   \n",
      "17      Priyadarshini college of engineering, Nagpur    \n",
      "18  S.I.E.S. Graduate School Of Technology, Nerul,...   \n",
      "19                    Silicon Institute of Technology   \n",
      "20                               St Xavier's College    \n",
      "21                 St.Francis Institute of Technology   \n",
      "22            Symbiosis Institute of Technology, Pune   \n",
      "23  THAKUR INSTITUTE OF MANAGEMENT STUDIES, CAREER...   \n",
      "24        Vidyalankar Institute of Technology, Mumbai   \n",
      "25          Vishwakarma Institute of Technology, Pune   \n",
      "26                                    Wilson college    \n",
      "27                 a. c. patil college of engineering   \n",
      "28                  adhiyamaan college of engineering   \n",
      "29                   ap shah institute of technology    \n",
      "30  b. k. birla college of arts, science & commerc...   \n",
      "31  chhattisgarh swami vivekananda technical unive...   \n",
      "32  d y patil institute of mca and management akur...   \n",
      "33  dkte society's textile and engineering institu...   \n",
      "34       don bosco college of engineering fatorda goa   \n",
      "35  g h raisoni institut of engineering and techno...   \n",
      "36                 government polytechnic gandhinagar   \n",
      "37  kle society's college of bca, rls institute, b...   \n",
      "38           late g. n. sapkal college of engineering   \n",
      "39     ld college of engineering, ahmedabad, gujarat    \n",
      "40  lokmanya tilak college of engineering koparkha...   \n",
      "41                 mit academy of engineering ,alandi   \n",
      "42                                                 na   \n",
      "43  new horizon institute of technology and manage...   \n",
      "44           pillai college of engineering new panvel   \n",
      "45      priyadarshini college of engineering, nagpur    \n",
      "46  s.i.e.s. graduate school of technology, nerul,...   \n",
      "47                    silicon institute of technology   \n",
      "48                               st xavier's college    \n",
      "49                 st.francis institute of technology   \n",
      "50            symbiosis institute of technology, pune   \n",
      "51  thakur institute of management studies, career...   \n",
      "52        vidyalankar institute of technology, mumbai   \n",
      "53          vishwakarma institute of technology, pune   \n",
      "54                                    wilson college    \n",
      "\n",
      "                                                    0  \n",
      "0   (Art of Resume Building, A. C. Patil College o...  \n",
      "1   (Internship Program(IP) Success Conclave, ADHI...  \n",
      "2   (Art of Resume Building, AP SHAH INSTITUTE OF ...  \n",
      "3   (Art of Resume Building, B. K. Birla College o...  \n",
      "4   (Internship Program(IP) Success Conclave, CHHA...  \n",
      "5   (Art of Resume Building, D Y PATIL INSTITUTE O...  \n",
      "6   (Art of Resume Building, DKTE Society's Textil...  \n",
      "7   (Internship Program(IP) Success Conclave, Don ...  \n",
      "8   (Art of Resume Building, G H Raisoni institut ...  \n",
      "9   (Art of Resume Building, GOVERNMENT POLYTECHNI...  \n",
      "10  (Art of Resume Building, KLE Society's College...  \n",
      "11  (Art of Resume Building, LD College of enginee...  \n",
      "12  (Art of Resume Building, LOKMANYA TILAK COLLEG...  \n",
      "13  (Art of Resume Building, Late G. N. Sapkal Col...  \n",
      "14  (Art of Resume Building, MIT Academy Of Engine...  \n",
      "15  (Art of Resume Building, New horizon institute...  \n",
      "16  (Internship Program(IP) Success Conclave, Pill...  \n",
      "17  (Art of Resume Building, Priyadarshini college...  \n",
      "18  (Art of Resume Building, S.I.E.S. Graduate Sch...  \n",
      "19  (Internship Program(IP) Success Conclave, Sili...  \n",
      "20  (Internship Program(IP) Success Conclave, St X...  \n",
      "21  (Art of Resume Building, St.Francis Institute ...  \n",
      "22  (Art of Resume Building, Symbiosis Institute o...  \n",
      "23  (Art of Resume Building, THAKUR INSTITUTE OF M...  \n",
      "24  (Internship Program(IP) Success Conclave, Vidy...  \n",
      "25  (Art of Resume Building, Vishwakarma Institute...  \n",
      "26          (Art of Resume Building, Wilson college )  \n",
      "27  (Product Design & Full Stack, a. c. patil coll...  \n",
      "28  (Product Design & Full Stack, adhiyamaan colle...  \n",
      "29  (Internship Program(IP) Success Conclave, ap s...  \n",
      "30  (Product Design & Full Stack, b. k. birla coll...  \n",
      "31  (Product Design & Full Stack, chhattisgarh swa...  \n",
      "32  (Internship Program(IP) Success Conclave, d y ...  \n",
      "33  (Product Design & Full Stack, dkte society's t...  \n",
      "34  (Product Design & Full Stack, don bosco colleg...  \n",
      "35  (Product Design & Full Stack, g h raisoni inst...  \n",
      "36  (Product Design & Full Stack, government polyt...  \n",
      "37  (Product Design & Full Stack, kle society's co...  \n",
      "38  (Product Design & Full Stack, late g. n. sapka...  \n",
      "39  (Product Design & Full Stack, ld college of en...  \n",
      "40  (Product Design & Full Stack, lokmanya tilak c...  \n",
      "41  (Product Design & Full Stack, mit academy of e...  \n",
      "42            (Data Visualization using Power BI, na)  \n",
      "43  (Product Design & Full Stack, new horizon inst...  \n",
      "44  (Product Design & Full Stack, pillai college o...  \n",
      "45  (Product Design & Full Stack, priyadarshini co...  \n",
      "46  (Product Design & Full Stack, s.i.e.s. graduat...  \n",
      "47  (Product Design & Full Stack, silicon institut...  \n",
      "48  (Product Design & Full Stack, st xavier's coll...  \n",
      "49  (Product Design & Full Stack, st.francis insti...  \n",
      "50  (Product Design & Full Stack, symbiosis instit...  \n",
      "51  (Product Design & Full Stack, thakur institute...  \n",
      "52  (Product Design & Full Stack, vidyalankar inst...  \n",
      "53  (Product Design & Full Stack, vishwakarma inst...  \n",
      "54     (Product Design & Full Stack, wilson college )  \n",
      "Event that attracts more students from specific fields of study:\n",
      "                                         College Name  \\\n",
      "0                  A. C. Patil College of Engineering   \n",
      "1                   ADHIYAMAAN COLLEGE OF ENGINEERING   \n",
      "2                    AP SHAH INSTITUTE OF TECHNOLOGY    \n",
      "3   B. K. Birla College of Arts, Science & Commerc...   \n",
      "4   CHHATTISGARH SWAMI VIVEKANANDA TECHNICAL UNIVE...   \n",
      "5   D Y PATIL INSTITUTE OF MCA AND MANAGEMENT AKUR...   \n",
      "6   DKTE Society's Textile And Engineering Institu...   \n",
      "7        Don Bosco College of Engineering Fatorda Goa   \n",
      "8   G H Raisoni institut of engineering and techno...   \n",
      "9                  GOVERNMENT POLYTECHNIC GANDHINAGAR   \n",
      "10  KLE Society's College of BCA, RLS Institute, B...   \n",
      "11     LD College of engineering, Ahmedabad, Gujarat    \n",
      "12  LOKMANYA TILAK COLLEGE OF ENGINEERING KOPARKHA...   \n",
      "13           Late G. N. Sapkal College Of Engineering   \n",
      "14                 MIT Academy Of Engineering ,Alandi   \n",
      "15  New horizon institute of Technology and Manage...   \n",
      "16           Pillai College of Engineering New Panvel   \n",
      "17      Priyadarshini college of engineering, Nagpur    \n",
      "18  S.I.E.S. Graduate School Of Technology, Nerul,...   \n",
      "19                    Silicon Institute of Technology   \n",
      "20                               St Xavier's College    \n",
      "21                 St.Francis Institute of Technology   \n",
      "22            Symbiosis Institute of Technology, Pune   \n",
      "23  THAKUR INSTITUTE OF MANAGEMENT STUDIES, CAREER...   \n",
      "24        Vidyalankar Institute of Technology, Mumbai   \n",
      "25          Vishwakarma Institute of Technology, Pune   \n",
      "26                                    Wilson college    \n",
      "27                 a. c. patil college of engineering   \n",
      "28                  adhiyamaan college of engineering   \n",
      "29                   ap shah institute of technology    \n",
      "30  b. k. birla college of arts, science & commerc...   \n",
      "31  chhattisgarh swami vivekananda technical unive...   \n",
      "32  d y patil institute of mca and management akur...   \n",
      "33  dkte society's textile and engineering institu...   \n",
      "34       don bosco college of engineering fatorda goa   \n",
      "35  g h raisoni institut of engineering and techno...   \n",
      "36                 government polytechnic gandhinagar   \n",
      "37  kle society's college of bca, rls institute, b...   \n",
      "38           late g. n. sapkal college of engineering   \n",
      "39     ld college of engineering, ahmedabad, gujarat    \n",
      "40  lokmanya tilak college of engineering koparkha...   \n",
      "41                 mit academy of engineering ,alandi   \n",
      "42                                                 na   \n",
      "43  new horizon institute of technology and manage...   \n",
      "44           pillai college of engineering new panvel   \n",
      "45      priyadarshini college of engineering, nagpur    \n",
      "46  s.i.e.s. graduate school of technology, nerul,...   \n",
      "47                    silicon institute of technology   \n",
      "48                               st xavier's college    \n",
      "49                 st.francis institute of technology   \n",
      "50            symbiosis institute of technology, pune   \n",
      "51  thakur institute of management studies, career...   \n",
      "52        vidyalankar institute of technology, mumbai   \n",
      "53          vishwakarma institute of technology, pune   \n",
      "54                                    wilson college    \n",
      "\n",
      "                                                    0  \n",
      "0   (Art of Resume Building, A. C. Patil College o...  \n",
      "1   (Internship Program(IP) Success Conclave, ADHI...  \n",
      "2   (Art of Resume Building, AP SHAH INSTITUTE OF ...  \n",
      "3   (Art of Resume Building, B. K. Birla College o...  \n",
      "4   (Internship Program(IP) Success Conclave, CHHA...  \n",
      "5   (Art of Resume Building, D Y PATIL INSTITUTE O...  \n",
      "6   (Art of Resume Building, DKTE Society's Textil...  \n",
      "7   (Internship Program(IP) Success Conclave, Don ...  \n",
      "8   (Art of Resume Building, G H Raisoni institut ...  \n",
      "9   (Art of Resume Building, GOVERNMENT POLYTECHNI...  \n",
      "10  (Art of Resume Building, KLE Society's College...  \n",
      "11  (Art of Resume Building, LD College of enginee...  \n",
      "12  (Art of Resume Building, LOKMANYA TILAK COLLEG...  \n",
      "13  (Art of Resume Building, Late G. N. Sapkal Col...  \n",
      "14  (Art of Resume Building, MIT Academy Of Engine...  \n",
      "15  (Art of Resume Building, New horizon institute...  \n",
      "16  (Internship Program(IP) Success Conclave, Pill...  \n",
      "17  (Art of Resume Building, Priyadarshini college...  \n",
      "18  (Art of Resume Building, S.I.E.S. Graduate Sch...  \n",
      "19  (Internship Program(IP) Success Conclave, Sili...  \n",
      "20  (Internship Program(IP) Success Conclave, St X...  \n",
      "21  (Art of Resume Building, St.Francis Institute ...  \n",
      "22  (Art of Resume Building, Symbiosis Institute o...  \n",
      "23  (Art of Resume Building, THAKUR INSTITUTE OF M...  \n",
      "24  (Internship Program(IP) Success Conclave, Vidy...  \n",
      "25  (Art of Resume Building, Vishwakarma Institute...  \n",
      "26          (Art of Resume Building, Wilson college )  \n",
      "27  (Product Design & Full Stack, a. c. patil coll...  \n",
      "28  (Product Design & Full Stack, adhiyamaan colle...  \n",
      "29  (Internship Program(IP) Success Conclave, ap s...  \n",
      "30  (Product Design & Full Stack, b. k. birla coll...  \n",
      "31  (Product Design & Full Stack, chhattisgarh swa...  \n",
      "32  (Internship Program(IP) Success Conclave, d y ...  \n",
      "33  (Product Design & Full Stack, dkte society's t...  \n",
      "34  (Product Design & Full Stack, don bosco colleg...  \n",
      "35  (Product Design & Full Stack, g h raisoni inst...  \n",
      "36  (Product Design & Full Stack, government polyt...  \n",
      "37  (Product Design & Full Stack, kle society's co...  \n",
      "38  (Product Design & Full Stack, late g. n. sapka...  \n",
      "39  (Product Design & Full Stack, ld college of en...  \n",
      "40  (Product Design & Full Stack, lokmanya tilak c...  \n",
      "41  (Product Design & Full Stack, mit academy of e...  \n",
      "42            (Data Visualization using Power BI, na)  \n",
      "43  (Product Design & Full Stack, new horizon inst...  \n",
      "44  (Product Design & Full Stack, pillai college o...  \n",
      "45  (Product Design & Full Stack, priyadarshini co...  \n",
      "46  (Product Design & Full Stack, s.i.e.s. graduat...  \n",
      "47  (Product Design & Full Stack, silicon institut...  \n",
      "48  (Product Design & Full Stack, st xavier's coll...  \n",
      "49  (Product Design & Full Stack, st.francis insti...  \n",
      "50  (Product Design & Full Stack, symbiosis instit...  \n",
      "51  (Product Design & Full Stack, thakur institute...  \n",
      "52  (Product Design & Full Stack, vidyalankar inst...  \n",
      "53  (Product Design & Full Stack, vishwakarma inst...  \n",
      "54     (Product Design & Full Stack, wilson college )  \n"
     ]
    }
   ],
   "source": [
    "# 11) Identify the event that attracts more students from specific fields of study\n",
    "\n",
    "# Print the results\n",
    "print(\"Event that attracts more students from specific fields of study:\")\n",
    "print(most_popular_event_by_college)\n",
    "# Group the data by event and college name, and count the occurrences\n",
    "event_college_counts = df.groupby(['Events', 'College Name']).size()\n",
    "\n",
    "# Find the event with the highest count for each college\n",
    "most_popular_event_by_college = event_college_counts.groupby('College Name').idxmax().reset_index()\n",
    "\n",
    "# Print the results\n",
    "print(\"Event that attracts more students from specific fields of study:\")\n",
    "print(most_popular_event_by_college)\n"
   ]
  },
  {
   "cell_type": "code",
   "execution_count": 115,
   "metadata": {},
   "outputs": [
    {
     "name": "stdout",
     "output_type": "stream",
     "text": [
      "Average GPA for leaders:  8.036787247087677\n",
      "Average expected salary for leaders:  13.971796443899448\n",
      "Average GPA for non-leaders:  8.040444274224436\n",
      "Average expected salary for non-leaders:  13.795097663730372\n",
      "Therefore,\n",
      "Students in leadership positions do not tend to have higher GPAs.\n",
      "While they tend to have better expected salaries.\n"
     ]
    }
   ],
   "source": [
    "#12.Do students in leadership positions during their college years tend to have higher GPAs or better expected salary?\n",
    "\n",
    "# Calculate average GPA and expected salary for students in leadership positions\n",
    "avg_gpa_leaders = df[df['Leadership- skills'] == 'yes']['CGPA'].mean()\n",
    "avg_salary_leaders = df[df['Leadership- skills'] == 'yes']['Expected salary (Lac)'].mean()\n",
    "\n",
    "# Calculate average GPA and expected salary for students not in leadership positions\n",
    "avg_gpa_non_leaders = df[df['Leadership- skills'] == 'no']['CGPA'].mean()\n",
    "avg_salary_non_leaders = df[df['Leadership- skills'] == 'no']['Expected salary (Lac)'].mean()\n",
    "print(\"Average GPA for leaders: \", avg_gpa_leaders)\n",
    "print(\"Average expected salary for leaders: \", avg_salary_leaders)\n",
    "print(\"Average GPA for non-leaders: \", avg_gpa_non_leaders)\n",
    "print(\"Average expected salary for non-leaders: \", avg_salary_non_leaders)\n",
    "print(\"Therefore,\")\n",
    "# Compare averages and print results\n",
    "if avg_gpa_leaders > avg_gpa_non_leaders:\n",
    "    print(\"Students in leadership positions tend to have higher GPAs.\")\n",
    "else:\n",
    "    print(\"Students in leadership positions do not tend to have higher GPAs.\")\n",
    "\n",
    "if avg_salary_leaders > avg_salary_non_leaders:\n",
    "    print(\"While they tend to have better expected salaries.\")\n",
    "else:\n",
    "    print(\"While they do not tend to have better expected salaries.\")"
   ]
  },
  {
   "cell_type": "code",
   "execution_count": 116,
   "metadata": {},
   "outputs": [
    {
     "name": "stdout",
     "output_type": "stream",
     "text": [
      "Correlation coefficient:  0.013367103770824451\n",
      "No, there is not a strong correlation between leadership skills and expected salary.\n"
     ]
    }
   ],
   "source": [
    "#Q.13) Is there a strong correlation between leadership skills and expected salary?\n",
    "df = pd.read_excel(r'C:\\Users\\stvma\\Downloads\\Data analyst Data.xlsx')\n",
    "# Convert leadership skills to numerical values\n",
    "df['Leadership- skills'] = df['Leadership- skills'].map({'yes': 1, 'no': 0})\n",
    "\n",
    "# Convert 'Expected salary (Lac)' to numeric values\n",
    "df['Expected salary (Lac)'] = pd.to_numeric(df['Expected salary (Lac)'], errors='coerce')\n",
    "\n",
    "# Calculate correlation\n",
    "correlation = df['Leadership- skills'].corr(df['Expected salary (Lac)'])\n",
    "\n",
    "# Print correlation coefficient\n",
    "print(\"Correlation coefficient: \", correlation)\n",
    "\n",
    "# Interpret correlation and print result\n",
    "if abs(correlation) > 0.5:\n",
    "    print(\"Yes, there is a strong correlation between leadership skills and expected salary.\")\n",
    "else:\n",
    "    print(\"No, there is not a strong correlation between leadership skills and expected salary.\")"
   ]
  },
  {
   "cell_type": "code",
   "execution_count": 117,
   "id": "ffe6fb0c",
   "metadata": {},
   "outputs": [
    {
     "name": "stdout",
     "output_type": "stream",
     "text": [
      "Number of students graduating by the end of 2024:  3047\n"
     ]
    }
   ],
   "source": [
    "# Q.14) How many students are graduating by the end of 2024?\n",
    "# Count the number of students graduating by the end of 2024\n",
    "num_students_graduating_by_2024 = df[df['Year of Graduation'] <= 2024].shape[0]\n",
    "\n",
    "print(\"Number of students graduating by the end of 2024: \", num_students_graduating_by_2024)"
   ]
  },
  {
   "cell_type": "code",
   "execution_count": 118,
   "id": "296b0621",
   "metadata": {},
   "outputs": [
    {
     "name": "stdout",
     "output_type": "stream",
     "text": [
      "Promotion channel that brings in more student participations:  Whatsapp\n"
     ]
    }
   ],
   "source": [
    "# Q.15) Which promotion channel brings in more student participations?\n",
    "# Split the 'How did you come to know about this event?' column and count the occurrences of each channel\n",
    "channel_counts = df['How did you come to know about this event?'].str.split(' | ', expand=True).stack().value_counts()\n",
    "\n",
    "# Find the channel with the maximum count\n",
    "max_participation_channel = channel_counts.idxmax()\n",
    "\n",
    "print(\"Promotion channel that brings in more student participations: \", max_participation_channel)"
   ]
  },
  {
   "cell_type": "code",
   "execution_count": 119,
   "id": "f3ccd984",
   "metadata": {},
   "outputs": [
    {
     "name": "stdout",
     "output_type": "stream",
     "text": [
      "Number of students who attended Data Science events:  455\n"
     ]
    }
   ],
   "source": [
    "# Q.16) How many students attended Data Science events?\n",
    "# Filter the DataFrame to only include rows where the 'Event' contains 'Data Science'\n",
    "data_science_events = df[df['Events'].str.contains('Data')]\n",
    "\n",
    "# Count the number of students who attended Data Science events\n",
    "num_students_data_science = data_science_events.shape[0]\n",
    "\n",
    "print(\"Number of students who attended Data Science events: \", num_students_data_science)"
   ]
  },
  {
   "cell_type": "code",
   "execution_count": 120,
   "id": "3f391959",
   "metadata": {},
   "outputs": [
    {
     "name": "stdout",
     "output_type": "stream",
     "text": [
      "Average expected salary of students with high CGPA and more experience in language:  16.720192307692308\n"
     ]
    }
   ],
   "source": [
    "# Q.17) Those who have high CGPA & More experience in language those who had high expectations for salary? (Avg)\n",
    "# Define 'high' CGPA and 'more' experience in language as being above the median\n",
    "high_cgpa = df['CGPA'].median()\n",
    "more_experience = df['Experience with python (Months)'].median()\n",
    "\n",
    "# Filter the DataFrame to only include students with high CGPA and more experience in language\n",
    "high_cgpa_more_experience = df[(df['CGPA'] > high_cgpa) & (df['Experience with python (Months)'] > more_experience)]\n",
    "\n",
    "# Calculate the average expected salary of these students\n",
    "avg_salary_high_cgpa_more_experience = high_cgpa_more_experience['Expected salary (Lac)'].mean()\n",
    "\n",
    "print(\"Average expected salary of students with high CGPA and more experience in language: \", avg_salary_high_cgpa_more_experience)"
   ]
  },
  {
   "cell_type": "code",
   "execution_count": 121,
   "id": "4ef2a056",
   "metadata": {},
   "outputs": [
    {
     "name": "stdout",
     "output_type": "stream",
     "text": [
      "Number of students who heard about the event from their colleges:  434\n",
      "Top 5 colleges among these students:  College Name\n",
      "vidyalankar institute of technology, mumbai              23\n",
      "kle society's college of bca, rls institute, belagavi    23\n",
      "mit academy of engineering ,alandi                       23\n",
      "ld college of engineering, ahmedabad, gujarat            20\n",
      "priyadarshini college of engineering, nagpur             20\n",
      "Name: count, dtype: int64\n"
     ]
    }
   ],
   "source": [
    "#Q.18) How many students know about the event from their colleges? Which of these Top 5 colleges?\n",
    "# Fill in missing values in the 'How did you come to know about this event?' column with an empty string\n",
    "df['How did you come to know about this event?'] = df['How did you come to know about this event?'].fillna('')\n",
    "\n",
    "# Filter the DataFrame to only include students who heard about the event from their colleges\n",
    "college_students = df[df['How did you come to know about this event?'].str.contains('college', case=False)]\n",
    "\n",
    "# Count the number of these students\n",
    "num_college_students = college_students.shape[0]\n",
    "\n",
    "# Find the top 5 colleges among these students\n",
    "top_colleges = college_students['College Name'].value_counts().head(5)\n",
    "\n",
    "print(\"Number of students who heard about the event from their colleges: \", num_college_students)\n",
    "print(\"Top 5 colleges among these students: \", top_colleges)"
   ]
  }
 ],
 "metadata": {
  "kernelspec": {
   "display_name": "Python 3 (ipykernel)",
   "language": "python",
   "name": "python3"
  },
  "language_info": {
   "codemirror_mode": {
    "name": "ipython",
    "version": 3
   },
   "file_extension": ".py",
   "mimetype": "text/x-python",
   "name": "python",
   "nbconvert_exporter": "python",
   "pygments_lexer": "ipython3",
   "version": "3.11.6"
  }
 },
 "nbformat": 4,
 "nbformat_minor": 5
}
