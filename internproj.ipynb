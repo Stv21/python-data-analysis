{
 "cells": [
  {
   "cell_type": "code",
   "execution_count": 1,
   "id": "46607c13",
   "metadata": {},
   "outputs": [],
   "source": [
    "import pandas as pd\n",
    "df = pd.read_excel(r'C:\\Users\\stvma\\Downloads\\Data analyst Data.xlsx')\n",
    "\n"
   ]
  },
  {
   "cell_type": "code",
   "execution_count": 2,
   "id": "ae780bf7",
   "metadata": {},
   "outputs": [
    {
     "name": "stdout",
     "output_type": "stream",
     "text": [
      "The dataset contains 2324 unique students.\n"
     ]
    }
   ],
   "source": [
    "# Calculate the number of unique students\n",
    "unique_students = df['First Name'].nunique()\n",
    "print(f\"The dataset contains {unique_students} unique students.\")"
   ]
  },
  {
   "cell_type": "code",
   "execution_count": 3,
   "id": "cb453a4d",
   "metadata": {},
   "outputs": [
    {
     "name": "stdout",
     "output_type": "stream",
     "text": [
      "The average GPA of the students is 8.04.\n"
     ]
    }
   ],
   "source": [
    "# Calculate the average GPA of the students\n",
    "average_gpa = df['CGPA'].mean()\n",
    "print(f\"The average GPA of the students is {average_gpa:.2f}.\")\n"
   ]
  },
  {
   "cell_type": "code",
   "execution_count": 4,
   "id": "768e65e4",
   "metadata": {},
   "outputs": [
    {
     "name": "stdout",
     "output_type": "stream",
     "text": [
      "Distribution of students across different graduation years:\n",
      "2023    1536\n",
      "2024    1511\n",
      "2025    1292\n",
      "2026     555\n",
      "Name: Year of Graduation, dtype: int64\n"
     ]
    }
   ],
   "source": [
    "# Calculate the distribution of students across different graduation years\n",
    "graduation_year_distribution = df['Year of Graduation'].value_counts()\n",
    "print(\"Distribution of students across different graduation years:\")\n",
    "print(graduation_year_distribution)"
   ]
  },
  {
   "cell_type": "code",
   "execution_count": 5,
   "id": "6ad1eb22",
   "metadata": {},
   "outputs": [
    {
     "name": "stdout",
     "output_type": "stream",
     "text": [
      "Distribution of student's experience with Python programming:\n",
      "5    1242\n",
      "3    1008\n",
      "8     800\n",
      "6     738\n",
      "7     640\n",
      "4     466\n",
      "Name: Experience with python (Months), dtype: int64\n"
     ]
    }
   ],
   "source": [
    "# Calculate the distribution of student's experience with Python programming\n",
    "python_experience_distribution = df['Experience with python (Months)'].value_counts()\n",
    "print(\"Distribution of student's experience with Python programming:\")\n",
    "print(python_experience_distribution)\n"
   ]
  },
  {
   "cell_type": "code",
   "execution_count": 6,
   "id": "ee79a7ad",
   "metadata": {},
   "outputs": [
    {
     "name": "stdout",
     "output_type": "stream",
     "text": [
      "The average family income of the students is: 1.29 Lakh\n"
     ]
    }
   ],
   "source": [
    "import pandas as pd\n",
    "import re\n",
    "\n",
    "# Define a function to calculate the mean from income range strings\n",
    "def calculate_mean(income_range):\n",
    "    # Use regular expressions to extract numerical values\n",
    "    values = [float(match) for match in re.findall(r'\\d+\\.\\d+|\\d+', income_range)]\n",
    "    \n",
    "    # Calculate the mean\n",
    "    if values:\n",
    "        return sum(values) / len(values)\n",
    "    else:\n",
    "        return None\n",
    "\n",
    "# Apply the calculate_mean function to the 'Family Income' column\n",
    "df['Family Income'] = df['Family Income'].apply(calculate_mean)\n",
    "\n",
    "average_family_income = df['Family Income'].mean()\n",
    "\n",
    "print(f\"The average family income of the students is: {average_family_income:.2f} Lakh\")"
   ]
  },
  {
   "cell_type": "code",
   "execution_count": 7,
   "id": "dbf14c65",
   "metadata": {},
   "outputs": [
    {
     "name": "stdout",
     "output_type": "stream",
     "text": [
      "GPA variation among different colleges (top 5 results):\n",
      "College Name\n",
      "THAKUR INSTITUTE OF MANAGEMENT STUDIES, CAREER DEVELOPMENT & RESEARCH - [TIMSCDR]    8.585714\n",
      "St Xavier's College                                                                  8.578571\n",
      "B. K. Birla College of Arts, Science & Commerce (Autonomous), Kalyan                 8.456410\n",
      "Symbiosis Institute of Technology, Pune                                              8.303448\n",
      "AP SHAH INSTITUTE OF TECHNOLOGY                                                      8.283333\n",
      "Name: CGPA, dtype: float64\n"
     ]
    }
   ],
   "source": [
    "# Calculate the GPA variation among different colleges (show top 5 results only)\n",
    "gpa_variation_by_college = df.groupby('College Name')['CGPA'].mean().nlargest(5)\n",
    "print(\"GPA variation among different colleges (top 5 results):\")\n",
    "print(gpa_variation_by_college)\n"
   ]
  },
  {
   "cell_type": "code",
   "execution_count": 8,
   "id": "6907f66e",
   "metadata": {},
   "outputs": [
    {
     "name": "stdout",
     "output_type": "stream",
     "text": [
      "\n",
      "Outliers in 'Attendee Status':\n",
      "                                       Events  Attendee Status\n",
      "78                     Art of Resume Building                0\n",
      "80                     Art of Resume Building                0\n",
      "121                    Art of Resume Building                0\n",
      "139                    Art of Resume Building                0\n",
      "358         Data Visualization using Power BI                0\n",
      "447         Data Visualization using Power BI                0\n",
      "448         Data Visualization using Power BI                0\n",
      "487         Data Visualization using Power BI                0\n",
      "1362  Internship Program(IP) Success Conclave                0\n",
      "2144              Product Design & Full Stack                0\n",
      "3572                   Art of Resume Building                0\n",
      "3585                   Art of Resume Building                0\n",
      "\n",
      "No outliers found in 'Quantity'.\n"
     ]
    }
   ],
   "source": [
    "import pandas as pd\n",
    "from scipy import stats\n",
    "\n",
    "# Replace 'NAN' with 0 and 'Attending' with 1 in 'Attendee Status'\n",
    "df['Attendee Status'] = df['Attendee Status'].replace('NAN', 0)\n",
    "df['Attendee Status'] = df['Attendee Status'].replace('Attending', 1)\n",
    "df['Attendee Status'] = df['Attendee Status'].astype(int)\n",
    "\n",
    "# Convert 'Quantity' column to numeric\n",
    "df['Quantity'] = pd.to_numeric(df['Quantity'], errors='coerce')\n",
    "\n",
    "# Replace NaN values with 0 for 'Quantity'\n",
    "df['Quantity'].fillna(0, inplace=True)\n",
    "\n",
    "# Calculate Z-scores for 'Attendee Status' and 'Quantity'\n",
    "z_scores_attendee = stats.zscore(df['Attendee Status'])\n",
    "z_scores_quantity = stats.zscore(df['Quantity'])\n",
    "\n",
    "# Define a threshold for considering values as outliers (e.g., z-score > 3 or < -3)\n",
    "threshold = 3\n",
    "\n",
    "# Identify outliers for 'Attendee Status'\n",
    "outliers_attendee = df[abs(z_scores_attendee) > threshold]\n",
    "\n",
    "# Identify outliers for 'Quantity'\n",
    "outliers_quantity = df[abs(z_scores_quantity) > threshold]\n",
    "\n",
    "# Check if there are any outliers\n",
    "if not outliers_attendee.empty:\n",
    "    print(\"\\nOutliers in 'Attendee Status':\")\n",
    "    print(outliers_attendee[['Events', 'Attendee Status']].to_string())\n",
    "else:\n",
    "    print(\"\\nNo outliers found in 'Attendee Status'.\")\n",
    "\n",
    "if not outliers_quantity.empty:\n",
    "    print(\"\\nOutliers in 'Quantity':\")\n",
    "    print(outliers_quantity[['Events', 'Quantity']].to_string())\n",
    "else:\n",
    "    print(\"\\nNo outliers found in 'Quantity'.\")\n"
   ]
  },
  {
   "cell_type": "code",
   "execution_count": 9,
   "id": "910f6ee9",
   "metadata": {},
   "outputs": [
    {
     "name": "stdout",
     "output_type": "stream",
     "text": [
      "Average GPA for each city:\n",
      "City\n",
      "Agartala     7.660714\n",
      "Agra         8.046429\n",
      "Ahemdabad    8.190385\n",
      "Ajmer        8.284314\n",
      "Akola        8.021429\n",
      "               ...   \n",
      "Vidisha      7.738095\n",
      "Vijaywada    7.986364\n",
      "Wardha       8.328571\n",
      "konark       8.071429\n",
      "kullu        7.878571\n",
      "Name: CGPA, Length: 177, dtype: float64\n"
     ]
    }
   ],
   "source": [
    "# Calculate the average GPA for each city\n",
    "average_gpa_by_city = df.groupby('City')['CGPA'].mean()\n",
    "print(\"Average GPA for each city:\")\n",
    "print(average_gpa_by_city)"
   ]
  },
  {
   "cell_type": "code",
   "execution_count": 10,
   "id": "a561adb8",
   "metadata": {},
   "outputs": [
    {
     "name": "stdout",
     "output_type": "stream",
     "text": [
      "The correlation between family income and GPA is 0.02.\n"
     ]
    }
   ],
   "source": [
    "# Identify any relationship between family income and GPA\n",
    "correlation_family_income_gpa = df['Family Income'].corr(df['CGPA'])\n",
    "print(f\"The correlation between family income and GPA is {correlation_family_income_gpa:.2f}.\")"
   ]
  },
  {
   "cell_type": "code",
   "execution_count": null,
   "id": "af77f234",
   "metadata": {},
   "outputs": [],
   "source": []
  }
 ],
 "metadata": {
  "kernelspec": {
   "display_name": "Python 3 (ipykernel)",
   "language": "python",
   "name": "python3"
  },
  "language_info": {
   "codemirror_mode": {
    "name": "ipython",
    "version": 3
   },
   "file_extension": ".py",
   "mimetype": "text/x-python",
   "name": "python",
   "nbconvert_exporter": "python",
   "pygments_lexer": "ipython3",
   "version": "3.11.4"
  }
 },
 "nbformat": 4,
 "nbformat_minor": 5
}
